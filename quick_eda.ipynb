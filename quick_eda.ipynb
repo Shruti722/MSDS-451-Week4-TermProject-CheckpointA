{
 "cells": [
  {
   "cell_type": "code",
   "execution_count": 1,
   "id": "82961069",
   "metadata": {},
   "outputs": [],
   "source": [
    "# quick_eda.py\n",
    "# Minimal EDA for AAPL, MSFT, NVDA: prices, returns, correlations, Sharpe, and plots.\n",
    "\n",
    "import os\n",
    "from pathlib import Path\n",
    "import numpy as np\n",
    "import pandas as pd\n",
    "import matplotlib.pyplot as plt\n",
    "import yfinance as yf"
   ]
  },
  {
   "cell_type": "code",
   "execution_count": 2,
   "id": "37a09f47",
   "metadata": {},
   "outputs": [],
   "source": [
    "# ----------------------------\n",
    "# Parameters\n",
    "# ----------------------------\n",
    "TICKERS = [\"AAPL\", \"MSFT\", \"NVDA\"]\n",
    "START = \"2019-01-01\"\n",
    "END = \"2024-12-31\"\n",
    "ANNUAL_RISK_FREE = 0.02     # 2% as a simple placeholder; set to 0 if you prefer\n",
    "TRADING_DAYS = 252\n",
    "\n",
    "# ----------------------------\n",
    "# Setup\n",
    "# ----------------------------\n",
    "out_dir = Path(\"week4_outputs\")\n",
    "out_dir.mkdir(exist_ok=True, parents=True)"
   ]
  },
  {
   "cell_type": "code",
   "execution_count": 3,
   "id": "eb5ffc44",
   "metadata": {},
   "outputs": [
    {
     "name": "stdout",
     "output_type": "stream",
     "text": [
      "Downloading adjusted close prices for ['AAPL', 'MSFT', 'NVDA']...\n"
     ]
    },
    {
     "name": "stderr",
     "output_type": "stream",
     "text": [
      "[*********************100%***********************]  3 of 3 completed"
     ]
    },
    {
     "name": "stdout",
     "output_type": "stream",
     "text": [
      "Got 1509 rows.\n",
      "\n",
      "=== Annualized Metrics ===\n",
      "        AnnReturn  AnnVol  AnnExcessReturn  Sharpe\n",
      "Ticker                                            \n",
      "NVDA       1.1224  0.5189           1.1024  2.1244\n",
      "AAPL       0.4406  0.3085           0.4206  1.3634\n",
      "MSFT       0.3388  0.2900           0.3188  1.0992\n",
      "\n",
      "=== Return Correlations ===\n",
      "Ticker   AAPL   MSFT   NVDA\n",
      "Ticker                     \n",
      "AAPL    1.000  0.735  0.603\n",
      "MSFT    0.735  1.000  0.671\n",
      "NVDA    0.603  0.671  1.000\n"
     ]
    },
    {
     "name": "stderr",
     "output_type": "stream",
     "text": [
      "\n"
     ]
    }
   ],
   "source": [
    "# ----------------------------\n",
    "# Download data\n",
    "# ----------------------------\n",
    "print(f\"Downloading adjusted close prices for {TICKERS}...\")\n",
    "px = yf.download(TICKERS, start=START, end=END, auto_adjust=True)[\"Close\"]\n",
    "px = px.dropna(how=\"all\")\n",
    "print(f\"Got {px.shape[0]} rows.\")\n",
    "\n",
    "# ----------------------------\n",
    "# Daily returns\n",
    "# ----------------------------\n",
    "ret = px.pct_change().dropna()\n",
    "# Basic sanity\n",
    "assert ret.notna().all().all(), \"Returns contain NaNs after dropna.\"\n",
    "\n",
    "# ----------------------------\n",
    "# Summary metrics per ticker\n",
    "# ----------------------------\n",
    "# Annualized mean return and volatility (simple)\n",
    "ann_ret = (1 + ret.mean())**TRADING_DAYS - 1\n",
    "ann_vol = ret.std() * np.sqrt(TRADING_DAYS)\n",
    "excess_ret = ann_ret - ANNUAL_RISK_FREE\n",
    "sharpe = excess_ret / ann_vol\n",
    "\n",
    "metrics = pd.DataFrame({\n",
    "    \"AnnReturn\": ann_ret,\n",
    "    \"AnnVol\": ann_vol,\n",
    "    \"AnnExcessReturn\": excess_ret,\n",
    "    \"Sharpe\": sharpe\n",
    "}).sort_values(\"Sharpe\", ascending=False)\n",
    "\n",
    "metrics.to_csv(out_dir / \"metrics.csv\")\n",
    "print(\"\\n=== Annualized Metrics ===\")\n",
    "print(metrics.round(4))\n",
    "\n",
    "# ----------------------------\n",
    "# Correlation of daily returns\n",
    "# ----------------------------\n",
    "corr = ret.corr()\n",
    "corr.to_csv(out_dir / \"correlations.csv\")\n",
    "print(\"\\n=== Return Correlations ===\")\n",
    "print(corr.round(3))\n"
   ]
  },
  {
   "cell_type": "code",
   "execution_count": 4,
   "id": "aa027c35",
   "metadata": {},
   "outputs": [
    {
     "name": "stdout",
     "output_type": "stream",
     "text": [
      "\n",
      "Saved outputs to: /Users/shruti.kalaskar/Documents/Northwestern/Fall 2025/Financial Engineering/week4_outputs\n",
      "Files:\n",
      " - correlation_matrix.png\n",
      " - correlations.csv\n",
      " - daily_returns.png\n",
      " - metrics.csv\n",
      " - prices_levels.png\n",
      " - prices_normalized.png\n",
      " - rolling_vol_21d.png\n"
     ]
    }
   ],
   "source": [
    "# ----------------------------\n",
    "# Plots (matplotlib; no special styles)\n",
    "# ----------------------------\n",
    "\n",
    "# 1) Price levels\n",
    "plt.figure(figsize=(10, 5))\n",
    "for col in px.columns:\n",
    "    plt.plot(px.index, px[col], label=col)\n",
    "plt.title(\"Adjusted Close Prices\")\n",
    "plt.xlabel(\"Date\")\n",
    "plt.ylabel(\"Price\")\n",
    "plt.legend()\n",
    "plt.tight_layout()\n",
    "plt.savefig(out_dir / \"prices_levels.png\", dpi=150)\n",
    "plt.close()\n",
    "\n",
    "# 2) Normalized prices (index to 100)\n",
    "norm = px / px.iloc[0] * 100.0\n",
    "plt.figure(figsize=(10, 5))\n",
    "for col in norm.columns:\n",
    "    plt.plot(norm.index, norm[col], label=col)\n",
    "plt.title(\"Normalized Prices (Index = 100 at Start)\")\n",
    "plt.xlabel(\"Date\")\n",
    "plt.ylabel(\"Index (100 = start)\")\n",
    "plt.legend()\n",
    "plt.tight_layout()\n",
    "plt.savefig(out_dir / \"prices_normalized.png\", dpi=150)\n",
    "plt.close()\n",
    "\n",
    "# 3) Daily returns (line)\n",
    "plt.figure(figsize=(10, 5))\n",
    "for col in ret.columns:\n",
    "    plt.plot(ret.index, ret[col], label=col, alpha=0.7)\n",
    "plt.title(\"Daily Returns\")\n",
    "plt.xlabel(\"Date\")\n",
    "plt.ylabel(\"Return\")\n",
    "plt.legend()\n",
    "plt.tight_layout()\n",
    "plt.savefig(out_dir / \"daily_returns.png\", dpi=150)\n",
    "plt.close()\n",
    "\n",
    "# 4) 21-day rolling volatility\n",
    "rolling_vol = ret.rolling(21).std() * np.sqrt(TRADING_DAYS)\n",
    "plt.figure(figsize=(10, 5))\n",
    "for col in rolling_vol.columns:\n",
    "    plt.plot(rolling_vol.index, rolling_vol[col], label=col)\n",
    "plt.title(\"21-Day Rolling Volatility (Annualized)\")\n",
    "plt.xlabel(\"Date\")\n",
    "plt.ylabel(\"Volatility\")\n",
    "plt.legend()\n",
    "plt.tight_layout()\n",
    "plt.savefig(out_dir / \"rolling_vol_21d.png\", dpi=150)\n",
    "plt.close()\n",
    "\n",
    "# 5) Correlation matrix (imshow)\n",
    "plt.figure(figsize=(5, 4))\n",
    "im = plt.imshow(corr, interpolation=\"nearest\")\n",
    "plt.title(\"Correlation Matrix (Daily Returns)\")\n",
    "plt.xticks(range(len(corr.columns)), corr.columns, rotation=45, ha=\"right\")\n",
    "plt.yticks(range(len(corr.index)), corr.index)\n",
    "plt.colorbar(im, fraction=0.046, pad=0.04)\n",
    "plt.tight_layout()\n",
    "plt.savefig(out_dir / \"correlation_matrix.png\", dpi=150)\n",
    "plt.close()\n",
    "\n",
    "print(f\"\\nSaved outputs to: {out_dir.resolve()}\")\n",
    "print(\"Files:\")\n",
    "for f in sorted(os.listdir(out_dir)):\n",
    "    print(\" -\", f)\n"
   ]
  },
  {
   "cell_type": "code",
   "execution_count": null,
   "id": "f615d2e5",
   "metadata": {},
   "outputs": [],
   "source": []
  }
 ],
 "metadata": {
  "kernelspec": {
   "display_name": "msai339",
   "language": "python",
   "name": "python3"
  },
  "language_info": {
   "codemirror_mode": {
    "name": "ipython",
    "version": 3
   },
   "file_extension": ".py",
   "mimetype": "text/x-python",
   "name": "python",
   "nbconvert_exporter": "python",
   "pygments_lexer": "ipython3",
   "version": "3.10.14"
  }
 },
 "nbformat": 4,
 "nbformat_minor": 5
}
